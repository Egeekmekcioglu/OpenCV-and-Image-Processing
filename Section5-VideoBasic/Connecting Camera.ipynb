{
 "cells": [
  {
   "cell_type": "code",
   "execution_count": 2,
   "id": "c1278f02-6bc1-414d-a6d4-a0c12f2b4f35",
   "metadata": {},
   "outputs": [],
   "source": [
    "import cv2"
   ]
  },
  {
   "cell_type": "code",
   "execution_count": 8,
   "id": "c965de11-be1b-4375-adc4-ca61b1dcb71e",
   "metadata": {},
   "outputs": [],
   "source": [
    "cap = cv2.VideoCapture(0)\n",
    "widht = int(cap.get(cv2.CAP_PROP_FRAME_WIDTH))\n",
    "height = int(cap.get(cv2.CAP_PROP_FRAME_HEIGHT))\n",
    "\n",
    "#WINDOWS -- *'DIVX'\n",
    "writer = cv2.VideoWriter('MyVideo.mp4', cv2.VideoWriter_fourcc(*'DIVX'), 20, (widht, height))\n",
    "# For saving as video\n",
    "\n",
    "while True:\n",
    "    ret, frame = cap.read()\n",
    "    \n",
    "    # Operations (Drawing)  -- Object tracking ... will come here !!\n",
    "    writer.write(frame)\n",
    "    \n",
    "    \n",
    "    \n",
    "    cv2.imshow('Frame',frame)\n",
    "    if cv2.waitKey(1) & 0xFF == ord(\"q\"):\n",
    "        break\n",
    "        \n",
    "cap.release()\n",
    "writer.release()\n",
    "cv2.destroyAllWindows()"
   ]
  },
  {
   "cell_type": "markdown",
   "id": "35be77da-b819-4150-b0e8-258e5906dbed",
   "metadata": {},
   "source": [
    "# Finally, we have taken our own video recording on my actually direction file."
   ]
  },
  {
   "cell_type": "code",
   "execution_count": null,
   "id": "9aa840fd-9c3f-4119-8c7d-d715c2c4167a",
   "metadata": {},
   "outputs": [],
   "source": []
  }
 ],
 "metadata": {
  "kernelspec": {
   "display_name": "Python 3",
   "language": "python",
   "name": "python3"
  },
  "language_info": {
   "codemirror_mode": {
    "name": "ipython",
    "version": 3
   },
   "file_extension": ".py",
   "mimetype": "text/x-python",
   "name": "python",
   "nbconvert_exporter": "python",
   "pygments_lexer": "ipython3",
   "version": "3.8.8"
  }
 },
 "nbformat": 4,
 "nbformat_minor": 5
}
