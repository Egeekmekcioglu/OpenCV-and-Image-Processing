{
 "cells": [
  {
   "cell_type": "code",
   "execution_count": 6,
   "id": "354d8b1f-3a37-4bb2-8a88-22a1e39e14f2",
   "metadata": {},
   "outputs": [],
   "source": [
    "import cv2\n",
    "\n",
    "cap = cv2.VideoCapture(0)\n",
    "\n",
    "widht = int(cap.get(cv2.CAP_PROP_FRAME_WIDTH))\n",
    "height = int(cap.get(cv2.CAP_PROP_FRAME_HEIGHT))\n",
    "\n",
    "\n",
    "#TOP LEFT CORNER\n",
    "x = widht // 2 # Allows to return integer\n",
    "y = height // 2 # Allows to return integer\n",
    "\n",
    "# widht and height of rectangle\n",
    "\n",
    "w = widht // 4\n",
    "h = height // 4\n",
    "\n",
    "#Bottom right x + w , y + h\n",
    "\n",
    "while True:\n",
    "     \n",
    "    ret, frame = cap.read()\n",
    "    \n",
    "    # Only below Code to added for drawing a rectangle on Live Camera Action. !!!\n",
    "    cv2.rectangle(frame, (x, y), (x+w, y+h), color = (0, 0, 255), thickness = 4 )\n",
    "    \n",
    "    cv2.imshow(\"frame\", frame)\n",
    "    \n",
    "    if cv2.waitKey(10) & 0xFF == ord(\"q\"):\n",
    "            break\n",
    "            \n",
    "cap.release()\n",
    "cv2.destroyAllWindows()"
   ]
  },
  {
   "cell_type": "code",
   "execution_count": 1,
   "id": "1d3106da-e5f6-4d85-9de1-4d378084784e",
   "metadata": {},
   "outputs": [
    {
     "data": {
      "text/plain": [
       "2.0"
      ]
     },
     "execution_count": 1,
     "metadata": {},
     "output_type": "execute_result"
    }
   ],
   "source": [
    "10 / 5"
   ]
  },
  {
   "cell_type": "code",
   "execution_count": 3,
   "id": "3807b918-e140-4f88-96ec-82c9d965f11d",
   "metadata": {},
   "outputs": [
    {
     "data": {
      "text/plain": [
       "2"
      ]
     },
     "execution_count": 3,
     "metadata": {},
     "output_type": "execute_result"
    }
   ],
   "source": [
    "10 // 5  # Allows to return integer"
   ]
  },
  {
   "cell_type": "code",
   "execution_count": null,
   "id": "d7244ed3-ec78-4805-998f-ba909f965172",
   "metadata": {},
   "outputs": [],
   "source": []
  }
 ],
 "metadata": {
  "kernelspec": {
   "display_name": "Python 3",
   "language": "python",
   "name": "python3"
  },
  "language_info": {
   "codemirror_mode": {
    "name": "ipython",
    "version": 3
   },
   "file_extension": ".py",
   "mimetype": "text/x-python",
   "name": "python",
   "nbconvert_exporter": "python",
   "pygments_lexer": "ipython3",
   "version": "3.8.8"
  }
 },
 "nbformat": 4,
 "nbformat_minor": 5
}
